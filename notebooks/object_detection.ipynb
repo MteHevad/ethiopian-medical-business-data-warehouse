{
  "nbformat": 4,
  "nbformat_minor": 0,
  "metadata": {
    "colab": {
      "provenance": []
    },
    "kernelspec": {
      "name": "python3",
      "display_name": "Python 3"
    },
    "language_info": {
      "name": "python"
    }
  },
  "cells": [
    {
      "cell_type": "code",
      "execution_count": null,
      "metadata": {
        "id": "yraAOk5KmkYB"
      },
      "outputs": [],
      "source": [
        "import torch\n",
        "import os"
      ]
    },
    {
      "cell_type": "code",
      "source": [
        "# Load YOLOv5 model\n",
        "model = torch.hub.load('ultralytics/yolov5', 'yolov5s')"
      ],
      "metadata": {
        "id": "zjKIKuEempsV"
      },
      "execution_count": null,
      "outputs": []
    },
    {
      "cell_type": "code",
      "source": [
        "# Directory to store results\n",
        "image_dir = 'data/images'\n",
        "result_dir = 'data/images/results'"
      ],
      "metadata": {
        "id": "DCtui6PPmroL"
      },
      "execution_count": null,
      "outputs": []
    },
    {
      "cell_type": "code",
      "source": [
        "# Perform object detection on images\n",
        "def run_object_detection():\n",
        "    for image_file in os.listdir(image_dir):\n",
        "        image_path = os.path.join(image_dir, image_file)\n",
        "        results = model(image_path)\n",
        "        results.save(result_dir)\n",
        "\n",
        "if __name__ == '__main__':\n",
        "    run_object_detection()"
      ],
      "metadata": {
        "id": "SjTwblcKmt9F"
      },
      "execution_count": null,
      "outputs": []
    }
  ]
}