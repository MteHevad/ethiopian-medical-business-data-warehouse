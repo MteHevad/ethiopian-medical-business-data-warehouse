{
  "nbformat": 4,
  "nbformat_minor": 0,
  "metadata": {
    "colab": {
      "provenance": []
    },
    "kernelspec": {
      "name": "python3",
      "display_name": "Python 3"
    },
    "language_info": {
      "name": "python"
    }
  },
  "cells": [
    {
      "cell_type": "code",
      "execution_count": null,
      "metadata": {
        "id": "8nbM9K9uj4sY"
      },
      "outputs": [],
      "source": [
        "import pandas as pd"
      ]
    },
    {
      "cell_type": "code",
      "source": [
        "# Load raw data\n",
        "df = pd.read_csv('data/raw/telegram_data.csv')"
      ],
      "metadata": {
        "id": "H-WKjgBXltFp"
      },
      "execution_count": null,
      "outputs": []
    },
    {
      "cell_type": "code",
      "source": [
        "# Cleaning steps\n",
        "df.drop_duplicates(inplace=True)\n",
        "df.fillna(method='ffill', inplace=True)\n",
        "df.columns = df.columns.str.lower().str.replace(' ', '_')"
      ],
      "metadata": {
        "id": "v1Py9Db6lvcl"
      },
      "execution_count": null,
      "outputs": []
    },
    {
      "cell_type": "code",
      "source": [
        "# Save cleaned data\n",
        "df.to_csv('data/cleaned/cleaned_data.csv', index=False)"
      ],
      "metadata": {
        "id": "kzkFu95alyF0"
      },
      "execution_count": null,
      "outputs": []
    },
    {
      "cell_type": "code",
      "source": [
        "print(\"Data cleaning complete.\")"
      ],
      "metadata": {
        "id": "tJ6L_5k-l0hV"
      },
      "execution_count": null,
      "outputs": []
    }
  ]
}