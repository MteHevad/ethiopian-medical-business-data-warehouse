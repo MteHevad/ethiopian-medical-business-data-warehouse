{
  "nbformat": 4,
  "nbformat_minor": 0,
  "metadata": {
    "colab": {
      "provenance": []
    },
    "kernelspec": {
      "name": "python3",
      "display_name": "Python 3"
    },
    "language_info": {
      "name": "python"
    }
  },
  "cells": [
    {
      "cell_type": "code",
      "source": [
        "! pip install telethon python-dotenv pandas sqlalchemy fastapi uvicorn torch torchvision dbt opencv-python"
      ],
      "metadata": {
        "id": "Pm-nz-hmPuvl"
      },
      "execution_count": null,
      "outputs": []
    },
    {
      "cell_type": "code",
      "source": [
        "!pip install nest_asyncio"
      ],
      "metadata": {
        "id": "0kEgmRG1WsKz"
      },
      "execution_count": null,
      "outputs": []
    },
    {
      "cell_type": "code",
      "source": [
        "import os\n",
        "import csv\n",
        "import logging\n",
        "from telethon import TelegramClient\n",
        "from dotenv import load_dotenv\n",
        "import nest_asyncio\n",
        "import asyncio"
      ],
      "metadata": {
        "id": "3KcbHH5hPu8c"
      },
      "execution_count": 3,
      "outputs": []
    },
    {
      "cell_type": "code",
      "source": [
        "import os\n",
        "from dotenv import load_dotenv\n",
        "from google.colab import drive"
      ],
      "metadata": {
        "id": "o2aCOeHAPvdv"
      },
      "execution_count": 4,
      "outputs": []
    },
    {
      "cell_type": "code",
      "source": [
        "# Mount Google Drive\n",
        "drive.mount('/content/drive')"
      ],
      "metadata": {
        "id": "Ufb2vPuGPvhF"
      },
      "execution_count": null,
      "outputs": []
    },
    {
      "cell_type": "code",
      "source": [
        "# Load API credentials from the .env file in Google Drive\n",
        "load_dotenv('/content/drive/My Drive/Week 7 KAIM/.env')"
      ],
      "metadata": {
        "id": "Jbvy5LkiPvts",
        "colab": {
          "base_uri": "https://localhost:8080/"
        },
        "outputId": "e651e541-23c1-44f1-e7d6-2a37a4e22f1b"
      },
      "execution_count": 6,
      "outputs": [
        {
          "output_type": "execute_result",
          "data": {
            "text/plain": [
              "True"
            ]
          },
          "metadata": {},
          "execution_count": 6
        }
      ]
    },
    {
      "cell_type": "code",
      "source": [
        "# Retrieve API credentials and handle errors if not found\n",
        "api_id = os.getenv('TG_API_ID')\n",
        "api_hash = os.getenv('TG_API_HASH')\n",
        "phone = os.getenv('phone')\n",
        "\n",
        "if not api_id or not api_hash or not phone:\n",
        "    raise ValueError(\"One or more environment variables are missing. Check your .env file.\")\n",
        "\n",
        "api_id = int(api_id)  # Convert api_id to integer"
      ],
      "metadata": {
        "id": "KODU8SeLPvwP"
      },
      "execution_count": 7,
      "outputs": []
    },
    {
      "cell_type": "code",
      "source": [
        "# Step 4: Use an in-memory session instead of a file-based session\n",
        "client = TelegramClient('anon', api_id, api_hash)"
      ],
      "metadata": {
        "id": "qz3k2RfQYkKl"
      },
      "execution_count": 8,
      "outputs": []
    },
    {
      "cell_type": "code",
      "source": [
        "# Step 5: Setup logging\n",
        "logging.basicConfig(filename='scraping/scraping.log', level=logging.INFO)"
      ],
      "metadata": {
        "id": "eOOAhAsOXnjK"
      },
      "execution_count": 9,
      "outputs": []
    },
    {
      "cell_type": "code",
      "source": [
        "# Step 6: Define the function to scrape messages from Telegram channels\n",
        "async def scrape_channel(channel, writer, media_dir='scraping/photos'):\n",
        "    os.makedirs(media_dir, exist_ok=True)\n",
        "    entity = await client.get_entity(channel)\n",
        "\n",
        "    async for message in client.iter_messages(entity, limit=50):\n",
        "        media_path = None\n",
        "        if message.media:\n",
        "            filename = f\"{channel}_{message.id}.jpg\"\n",
        "            media_path = os.path.join(media_dir, filename)\n",
        "            await client.download_media(message.media, media_path)\n",
        "        writer.writerow([channel, message.id, message.message, message.date, media_path])"
      ],
      "metadata": {
        "id": "YnlT9iITYqtx"
      },
      "execution_count": 10,
      "outputs": []
    },
    {
      "cell_type": "code",
      "source": [
        "# Step 7: Main async function to orchestrate scraping\n",
        "async def main():\n",
        "    await client.start(phone)\n",
        "    with open('scraped_data.csv', 'w', newline='', encoding='utf-8') as f:\n",
        "        writer = csv.writer(f)\n",
        "        writer.writerow(['Channel', 'Message ID', 'Content', 'Date', 'Media Path'])\n",
        "        channels = ['@DoctorsEthiopia', 'https://t.me/EAHCI', 'https://t.me/lobelia4cosmetics']\n",
        "        for channel in channels:\n",
        "            await scrape_channel(channel, writer)\n",
        "    await client.disconnect()"
      ],
      "metadata": {
        "id": "G730gQ4YYukS"
      },
      "execution_count": 11,
      "outputs": []
    },
    {
      "cell_type": "code",
      "source": [
        "# Step 8: Apply nest_asyncio to allow running asyncio in an existing event loop\n",
        "nest_asyncio.apply()"
      ],
      "metadata": {
        "id": "hodk1ThYYy80"
      },
      "execution_count": 12,
      "outputs": []
    },
    {
      "cell_type": "code",
      "source": [
        "# Step 9: Run the main function\n",
        "asyncio.run(main())"
      ],
      "metadata": {
        "id": "nTGCKqEhY1w6"
      },
      "execution_count": null,
      "outputs": []
    }
  ]
}