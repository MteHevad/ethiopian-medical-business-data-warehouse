{
  "nbformat": 4,
  "nbformat_minor": 0,
  "metadata": {
    "colab": {
      "provenance": []
    },
    "kernelspec": {
      "name": "python3",
      "display_name": "Python 3"
    },
    "language_info": {
      "name": "python"
    }
  },
  "cells": [
    {
      "cell_type": "code",
      "execution_count": null,
      "metadata": {
        "id": "_bTz75o0mGSg"
      },
      "outputs": [],
      "source": [
        "# DBT commands for data transformation\n",
        "# Initialize DBT project\n",
        "dbt init my_project"
      ]
    },
    {
      "cell_type": "code",
      "source": [
        "# Create a model file: models/cleaned_data.sql\n",
        "\n",
        "\"\"\"\n",
        "WITH cleaned_data AS (\n",
        "    SELECT\n",
        "        LOWER(column_name) AS standardized_column\n",
        "    FROM raw_data\n",
        "    WHERE column_name IS NOT NULL\n",
        ")\n",
        "SELECT * FROM cleaned_data\n",
        "\"\"\""
      ],
      "metadata": {
        "id": "50gwK8jmmI2R"
      },
      "execution_count": null,
      "outputs": []
    },
    {
      "cell_type": "code",
      "source": [
        "# Run the transformation\n",
        "dbt run"
      ],
      "metadata": {
        "id": "KXWT2pMUmR3l"
      },
      "execution_count": null,
      "outputs": []
    }
  ]
}