# Jupyter notebook for data exploration

import pandas as pd
import matplotlib.pyplot as plt

# Load cleaned data
df = pd.read_csv('../data/cleaned/cleaned_data.csv')

# Data summary
print(df.describe())

# Plotting distribution of businesses by location
df['location'].value_counts().plot(kind='bar')
plt.title('Distribution of Medical Businesses by Location')
plt.show()
