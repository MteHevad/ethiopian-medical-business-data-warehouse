{
  "nbformat": 4,
  "nbformat_minor": 0,
  "metadata": {
    "colab": {
      "provenance": []
    },
    "kernelspec": {
      "name": "python3",
      "display_name": "Python 3"
    },
    "language_info": {
      "name": "python"
    }
  },
  "cells": [
    {
      "cell_type": "code",
      "execution_count": null,
      "metadata": {
        "id": "HLaCYWHhm6dg"
      },
      "outputs": [],
      "source": [
        "# Importing necessary libraries for data analysis\n",
        "import pandas as pd\n",
        "import matplotlib.pyplot as plt\n",
        "import seaborn as sns\n",
        "import psycopg2"
      ]
    },
    {
      "cell_type": "code",
      "source": [
        "# Setting up the visualizations to be more attractive\n",
        "sns.set(style=\"whitegrid\")\n",
        "plt.rcParams[\"figure.figsize\"] = (12, 6)"
      ],
      "metadata": {
        "id": "sxl6EXjqpJhr"
      },
      "execution_count": null,
      "outputs": []
    },
    {
      "cell_type": "code",
      "source": [
        "# Load the cleaned CSV data (local) or load from database\n",
        "cleaned_data_path = '../data/cleaned/cleaned_data.csv'\n",
        "df = pd.read_csv(cleaned_data_path)"
      ],
      "metadata": {
        "id": "jyQU95y3pSnk"
      },
      "execution_count": null,
      "outputs": []
    },
    {
      "cell_type": "code",
      "source": [
        "# Quick summary and overview of the data\n",
        "df.info()\n",
        "df.head()"
      ],
      "metadata": {
        "id": "K34JBkLUpVK0"
      },
      "execution_count": null,
      "outputs": []
    },
    {
      "cell_type": "code",
      "source": [
        "# Checking for missing values in the cleaned data\n",
        "missing_values = df.isnull().sum()\n",
        "print(\"Missing Values per Column:\\n\", missing_values)"
      ],
      "metadata": {
        "id": "xpySSipvpXIq"
      },
      "execution_count": null,
      "outputs": []
    },
    {
      "cell_type": "code",
      "source": [
        "# Visualizing the distribution of messages over time\n",
        "df['date'] = pd.to_datetime(df['date'])  # Convert date column to datetime\n",
        "df['year_month'] = df['date'].dt.to_period('M')  # Group by month\n",
        "\n",
        "plt.figure(figsize=(10,6))\n",
        "sns.countplot(data=df, x='year_month', palette='Blues_d')\n",
        "plt.xticks(rotation=45)\n",
        "plt.title('Monthly Message Count from Telegram Channels')\n",
        "plt.show()"
      ],
      "metadata": {
        "id": "hnkqMHT5pZUL"
      },
      "execution_count": null,
      "outputs": []
    },
    {
      "cell_type": "code",
      "source": [
        "# Analyzing the top businesses mentioned in messages (if business names are available)\n",
        "if 'business_name' in df.columns:\n",
        "    top_businesses = df['business_name'].value_counts().head(10)\n",
        "    plt.figure(figsize=(10,6))\n",
        "    sns.barplot(x=top_businesses.index, y=top_businesses.values, palette='Blues_d')\n",
        "    plt.title('Top 10 Most Mentioned Businesses in Telegram Channels')\n",
        "    plt.xticks(rotation=45)\n",
        "    plt.show()"
      ],
      "metadata": {
        "id": "BfxTH2wnpgN7"
      },
      "execution_count": null,
      "outputs": []
    },
    {
      "cell_type": "code",
      "source": [
        "# Connect to PostgreSQL database for more advanced analysis\n",
        "def connect_db():\n",
        "    try:\n",
        "        conn = psycopg2.connect(\n",
        "            dbname=\"medical_data\", user=\"postgres\", password=\"password\", host=\"localhost\"\n",
        "        )\n",
        "        print(\"Database connection successful\")\n",
        "        return conn\n",
        "    except Exception as e:\n",
        "        print(f\"Failed to connect to database: {e}\")"
      ],
      "metadata": {
        "id": "lF8xprYhpmG7"
      },
      "execution_count": null,
      "outputs": []
    },
    {
      "cell_type": "code",
      "source": [
        "# Querying the PostgreSQL database to retrieve business data for analysis\n",
        "conn = connect_db()\n",
        "if conn:\n",
        "    query = \"\"\"\n",
        "        SELECT name, location, COUNT(*) as message_count\n",
        "        FROM medical_businesses\n",
        "        GROUP BY name, location\n",
        "        ORDER BY message_count DESC\n",
        "        LIMIT 10;\n",
        "    \"\"\"\n",
        "    business_data = pd.read_sql(query, conn)"
      ],
      "metadata": {
        "id": "Br1Q2Catpoj7"
      },
      "execution_count": null,
      "outputs": []
    },
    {
      "cell_type": "code",
      "source": [
        "  # Plotting top 10 businesses by message count\n",
        "    plt.figure(figsize=(10,6))\n",
        "    sns.barplot(data=business_data, x='name', y='message_count', palette='Blues_d')\n",
        "    plt.title('Top 10 Businesses by Number of Mentions in Telegram Channels')\n",
        "    plt.xticks(rotation=45)\n",
        "    plt.show()\n",
        "\n",
        "    conn.close()"
      ],
      "metadata": {
        "id": "ni6AcXelprLT"
      },
      "execution_count": null,
      "outputs": []
    },
    {
      "cell_type": "code",
      "source": [
        "# Analyzing the detected objects from YOLO (object detection results)\n",
        "image_data_path = '../data/images/results/summary.csv'\n",
        "image_df = pd.read_csv(image_data_path)"
      ],
      "metadata": {
        "id": "uWdB4WSHptei"
      },
      "execution_count": null,
      "outputs": []
    },
    {
      "cell_type": "code",
      "source": [
        "# Top detected objects in images\n",
        "top_objects = image_df['object_name'].value_counts().head(10)\n",
        "plt.figure(figsize=(10,6))\n",
        "sns.barplot(x=top_objects.index, y=top_objects.values, palette='Blues_d')\n",
        "plt.title('Top 10 Objects Detected in Scraped Images')\n",
        "plt.xticks(rotation=45)\n",
        "plt.show()"
      ],
      "metadata": {
        "id": "odIGW5uVpvrq"
      },
      "execution_count": null,
      "outputs": []
    },
    {
      "cell_type": "code",
      "source": [
        "# Visualizing YOLO detection confidence levels\n",
        "plt.figure(figsize=(10,6))\n",
        "sns.histplot(image_df['confidence'], kde=True, bins=30, color='blue')\n",
        "plt.title('Distribution of YOLO Object Detection Confidence Levels')\n",
        "plt.show()"
      ],
      "metadata": {
        "id": "AoOgn5dHpxya"
      },
      "execution_count": null,
      "outputs": []
    }
  ]
}